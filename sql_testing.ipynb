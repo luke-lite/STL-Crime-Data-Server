{
 "cells": [
  {
   "cell_type": "code",
   "execution_count": null,
   "id": "c6d27252-76c2-4064-a908-05c72c539cda",
   "metadata": {},
   "outputs": [],
   "source": [
    "import pandas as pd\n",
    "import sqlite3\n",
    "pd.set_option('display.max_columns', None)"
   ]
  },
  {
   "cell_type": "code",
   "execution_count": null,
   "id": "38061ac0-a3bf-480b-9fb1-8bcee425b808",
   "metadata": {},
   "outputs": [],
   "source": [
    "conn=sqlite3.connect('test_db.db')"
   ]
  },
  {
   "cell_type": "code",
   "execution_count": null,
   "id": "b6044e37-0528-4585-a560-f174384bcad3",
   "metadata": {},
   "outputs": [],
   "source": [
    "df = pd.read_csv('uploads/Crime_01_2024.csv')\n",
    "df"
   ]
  },
  {
   "cell_type": "code",
   "execution_count": null,
   "id": "018c00a7-59ae-45d5-adfe-ee350c6bd6ad",
   "metadata": {},
   "outputs": [],
   "source": [
    "# df['Id'] = None\n",
    "df = df.drop('IncidentTopSRS_UCR', axis=1)\n",
    "df.rename(columns={'CrimeAgainst': 'NIBRSCat',\n",
    "                   'NIBRS': 'NIBRSCode',\n",
    "                   'NIBRSCategory':'NIBRSOffenseType',\n",
    "                   'SRS_UCR':'UCR_SRS',\n",
    "                   'OccurredFromTime':'TimeOccurred',\n",
    "                   'Offense':'SLMPDOffense',\n",
    "                   'FelMisdCit':'CrimeGrade',\n",
    "                   'IncidentLocation':'PrimaryLocation',\n",
    "                   'IntersectionOtherLoc':'SecondaryLocation',\n",
    "                   'NbhdNum':'NeighborhoodNum',\n",
    "                   'IncidentSupplemented':'Supplemented',\n",
    "                   'LastSuppDate':'SupplementDate'}, inplace=True)\n",
    "\n",
    "ordered_cols = ['IncidentNum', 'IncidentDate', 'TimeOccurred', 'SLMPDOffense',\n",
    "                'NIBRSCode', 'NIBRSCat', 'NIBRSOffenseType', 'UCR_SRS', 'CrimeGrade',\n",
    "                'PrimaryLocation', 'SecondaryLocation', 'District', 'Neighborhood',\n",
    "                'NeighborhoodNum', 'Latitude', 'Longitude', 'Supplemented',\n",
    "                'SupplementDate', 'VictimNum', 'FirearmUsed', 'IncidentNature']\n",
    "df = df[ordered_cols]\n",
    "\n",
    "# remove incidents prior to 2021-01-01\n",
    "df['IncidentDate'] = pd.to_datetime(df['IncidentDate'])\n",
    "df = df[~(df['IncidentDate'] < '2021-01-01')]\n",
    "# revert to sting column\n",
    "df.loc[:,'IncidentDate'] = df.loc[:,'IncidentDate'].astype('str')\n",
    "\n",
    "\n",
    "supp_df = df[df['Supplemented'] == 'Yes']\n",
    "unfound_df = df[(df['Supplemented'].isna()) & (df['SLMPDOffense'] == 'UNFOUNDED INCIDENT')]\n",
    "new_df = df[df['Supplemented'] == 'No']\n",
    "\n",
    "# new_rows = supp_df.itertuples(index=False, name=None)\n",
    "# new_rows = supp_df.itertuples(index=False)\n",
    "new_rows = [tuple(x) for x in supp_df.itertuples(index=False)]"
   ]
  },
  {
   "cell_type": "code",
   "execution_count": null,
   "id": "e2f9c1b9-2ae3-40b4-be0f-ef1be3fd1b3f",
   "metadata": {},
   "outputs": [],
   "source": [
    "supp_df.sort_values('IncidentNum')\n",
    "# supp_df.sort_values('IncidentDate', ascending=True)"
   ]
  },
  {
   "cell_type": "code",
   "execution_count": null,
   "id": "d00a4764-e0bf-497d-9823-7f8068904430",
   "metadata": {},
   "outputs": [],
   "source": [
    "supp_df.info()"
   ]
  },
  {
   "cell_type": "code",
   "execution_count": null,
   "id": "4e2caddc-9f08-4a58-a336-9c2eb4190700",
   "metadata": {},
   "outputs": [],
   "source": [
    "supp_df['IncidentDate'] = supp_df['IncidentDate'].astype('str')"
   ]
  },
  {
   "cell_type": "code",
   "execution_count": null,
   "id": "21070c43-0ff8-4ca5-9707-df2d347f0988",
   "metadata": {},
   "outputs": [],
   "source": []
  },
  {
   "cell_type": "code",
   "execution_count": null,
   "id": "61847aa8-4d56-4eb6-b495-e1ba3d50085a",
   "metadata": {},
   "outputs": [],
   "source": [
    "list(new_rows)"
   ]
  },
  {
   "cell_type": "code",
   "execution_count": null,
   "id": "f22ec57a-7c99-47b7-a74b-4cfb398ad990",
   "metadata": {},
   "outputs": [],
   "source": [
    "jan['IncidentDate'] = pd.to_datetime(jan['IncidentDate'])\n",
    "\n",
    "res = jan[~(jan['IncidentDate'] < '2021-01-01')]\n",
    "res"
   ]
  },
  {
   "cell_type": "code",
   "execution_count": null,
   "id": "3eacf9d5-238d-47b1-bf5f-028f4089512e",
   "metadata": {},
   "outputs": [],
   "source": [
    "list(res.itertuples(index=False, name=None))"
   ]
  },
  {
   "cell_type": "code",
   "execution_count": null,
   "id": "474e5065-a235-470d-b215-9f964bae986c",
   "metadata": {},
   "outputs": [],
   "source": [
    "res.loc[:,'IncidentDate'] = res.loc[:,'IncidentDate'].astype('str')"
   ]
  },
  {
   "cell_type": "code",
   "execution_count": null,
   "id": "8623e3c9-84ed-4a8e-b734-99256b28abd2",
   "metadata": {},
   "outputs": [],
   "source": [
    "res.info()"
   ]
  },
  {
   "cell_type": "code",
   "execution_count": null,
   "id": "48bb2161-0be2-4486-b696-d4234ee77c3b",
   "metadata": {},
   "outputs": [],
   "source": []
  },
  {
   "cell_type": "code",
   "execution_count": null,
   "id": "f42e0d7d-2733-4933-87a1-59fc7b0a60b1",
   "metadata": {},
   "outputs": [],
   "source": [
    "sql_df = pd.read_sql_query(\"SELECT * FROM crime_data\", conn)"
   ]
  },
  {
   "cell_type": "code",
   "execution_count": null,
   "id": "37668647-8a3a-4918-ae7b-062913a0b0bc",
   "metadata": {},
   "outputs": [],
   "source": [
    "sql_df"
   ]
  },
  {
   "cell_type": "code",
   "execution_count": null,
   "id": "09664e41-63ed-4cf1-9b42-cbb99f651d9e",
   "metadata": {},
   "outputs": [],
   "source": [
    "unfound_table = pd.read_sql_query(\"SELECT * FROM unfounded_data\", conn)"
   ]
  },
  {
   "cell_type": "code",
   "execution_count": null,
   "id": "169a43ab-de41-4888-994d-ea95f6c12478",
   "metadata": {},
   "outputs": [],
   "source": [
    "unfound_table"
   ]
  },
  {
   "cell_type": "code",
   "execution_count": null,
   "id": "9940d75f-fcd4-474e-a671-2e689955ff84",
   "metadata": {},
   "outputs": [],
   "source": [
    "post_sql_df = pd.read_sql_query(\"SELECT * FROM crime_data\", conn)"
   ]
  },
  {
   "cell_type": "code",
   "execution_count": null,
   "id": "11815b05-f17e-4bba-9efa-9ed876cbf7c5",
   "metadata": {},
   "outputs": [],
   "source": [
    "post_sql_df"
   ]
  },
  {
   "cell_type": "code",
   "execution_count": null,
   "id": "13128d42-43f0-40ec-a558-36167560656f",
   "metadata": {},
   "outputs": [],
   "source": [
    "overlap = jan[jan['IncidentNum'].isin(sql_df['IncidentNum'])]"
   ]
  },
  {
   "cell_type": "code",
   "execution_count": null,
   "id": "92982f6c-a31f-4b2e-be46-312033876add",
   "metadata": {},
   "outputs": [],
   "source": [
    "overlap['IncidentNum'].value_counts()"
   ]
  },
  {
   "cell_type": "code",
   "execution_count": null,
   "id": "621647f6-07dc-4f83-a181-a10a0e8b8634",
   "metadata": {},
   "outputs": [],
   "source": [
    "overlap[overlap['IncidentNum'] == 23005581]"
   ]
  },
  {
   "cell_type": "code",
   "execution_count": null,
   "id": "83019c47-d9db-4a01-a52e-e8c208859b9e",
   "metadata": {},
   "outputs": [],
   "source": [
    "sql_df[sql_df['IncidentNum'] == 23005581]"
   ]
  },
  {
   "cell_type": "code",
   "execution_count": null,
   "id": "dd02c280-b594-45ff-9881-e9124534c8f8",
   "metadata": {},
   "outputs": [],
   "source": []
  },
  {
   "cell_type": "code",
   "execution_count": null,
   "id": "c328aa4c-d22b-4c0a-8a25-4f6a2faee9b6",
   "metadata": {},
   "outputs": [],
   "source": []
  },
  {
   "cell_type": "code",
   "execution_count": null,
   "id": "3c1b6476-634a-493c-9909-3e503000ca84",
   "metadata": {},
   "outputs": [],
   "source": []
  },
  {
   "cell_type": "code",
   "execution_count": null,
   "id": "b497d1ae-9b77-4ea0-a726-10787c0c3e42",
   "metadata": {},
   "outputs": [],
   "source": []
  },
  {
   "cell_type": "code",
   "execution_count": null,
   "id": "6d51a0a0-2fb7-4b7a-81fa-547f34c4e448",
   "metadata": {},
   "outputs": [],
   "source": []
  }
 ],
 "metadata": {
  "kernelspec": {
   "display_name": "stl-transformer-env",
   "language": "python",
   "name": "stl-transformer-env"
  },
  "language_info": {
   "codemirror_mode": {
    "name": "ipython",
    "version": 3
   },
   "file_extension": ".py",
   "mimetype": "text/x-python",
   "name": "python",
   "nbconvert_exporter": "python",
   "pygments_lexer": "ipython3",
   "version": "3.10.9"
  }
 },
 "nbformat": 4,
 "nbformat_minor": 5
}
