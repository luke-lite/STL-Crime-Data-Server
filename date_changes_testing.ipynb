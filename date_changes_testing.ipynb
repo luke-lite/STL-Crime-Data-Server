{
 "cells": [
  {
   "cell_type": "code",
   "execution_count": null,
   "id": "87f41ad5-789c-4260-8bae-cbde94742629",
   "metadata": {},
   "outputs": [],
   "source": [
    "from sqlalchemy import create_engine\n",
    "import pandas as pd\n",
    "\n",
    "pd.set_option('display.max_columns', None)"
   ]
  },
  {
   "cell_type": "code",
   "execution_count": null,
   "id": "9f7a2d98-aad0-4eb2-aeae-102d181d245e",
   "metadata": {},
   "outputs": [],
   "source": [
    "engine = create_engine('sqlite:///test_db.db', echo=False)"
   ]
  },
  {
   "cell_type": "code",
   "execution_count": null,
   "id": "35d85f48-fd9a-42cc-b0c2-7658b132c315",
   "metadata": {},
   "outputs": [],
   "source": [
    "df = pd.read_csv('uploads/Crime2021-2023.csv')\n",
    "\n",
    "df.to_sql('crime_data', con=engine, if_exists='append', index_label='Id')"
   ]
  },
  {
   "cell_type": "code",
   "execution_count": null,
   "id": "da343708-fc7b-4d1c-9825-43eb51d57f3e",
   "metadata": {},
   "outputs": [],
   "source": [
    "sql_df = pd.read_sql_query(\"SELECT * FROM crime_data\", engine)\n",
    "sql_df"
   ]
  },
  {
   "cell_type": "code",
   "execution_count": null,
   "id": "6659bde3-9d3e-440f-b0f3-18133cf6f65d",
   "metadata": {},
   "outputs": [],
   "source": [
    "sql_df"
   ]
  },
  {
   "cell_type": "code",
   "execution_count": null,
   "id": "96c2a964-8d92-4774-9211-0dec7fc1d02e",
   "metadata": {},
   "outputs": [],
   "source": [
    "import pandas as pd\n",
    "\n",
    "df = pd.read_csv('uploads/Crime2021-2023.csv')\n",
    "df"
   ]
  },
  {
   "cell_type": "code",
   "execution_count": null,
   "id": "edc73164-46a5-46e4-b061-6e6e2f4b826d",
   "metadata": {},
   "outputs": [],
   "source": [
    "df.info()"
   ]
  }
 ],
 "metadata": {
  "kernelspec": {
   "display_name": "stl-transformer-env",
   "language": "python",
   "name": "stl-transformer-env"
  },
  "language_info": {
   "codemirror_mode": {
    "name": "ipython",
    "version": 3
   },
   "file_extension": ".py",
   "mimetype": "text/x-python",
   "name": "python",
   "nbconvert_exporter": "python",
   "pygments_lexer": "ipython3",
   "version": "3.10.9"
  }
 },
 "nbformat": 4,
 "nbformat_minor": 5
}
