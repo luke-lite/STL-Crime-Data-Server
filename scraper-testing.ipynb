{
 "cells": [
  {
   "cell_type": "code",
   "execution_count": null,
   "id": "e58b1106-124a-43b8-a649-4d2c8d416084",
   "metadata": {},
   "outputs": [],
   "source": [
    "from bs4 import BeautifulSoup\n",
    "import requests\n",
    "import pandas as pd\n",
    "import sqlite3\n",
    "from datetime import datetime\n",
    "from dateutil import parser\n",
    "from dateutil.relativedelta import relativedelta"
   ]
  },
  {
   "cell_type": "code",
   "execution_count": null,
   "id": "8b576b86-e423-4037-9249-c8d1e11c2f92",
   "metadata": {},
   "outputs": [],
   "source": [
    "base_url = 'https://www.slmpd.org/'\n",
    "page_url = 'https://www.slmpd.org/crime_stats.shtml'\n",
    "DB_LOC = 'instance/database.db'"
   ]
  },
  {
   "cell_type": "code",
   "execution_count": null,
   "id": "39770cf8-aa31-4280-ad56-40047f1f2201",
   "metadata": {},
   "outputs": [],
   "source": [
    "with sqlite3.connect(DB_LOC) as conn:\n",
    "    last_updated = pd.read_sql_query(\"SELECT LastUpdated FROM meta_data\", conn)\n",
    "    # db_df = pd.read_sql_query(\"\"\"\n",
    "    #     SELECT IncidentNum,IncidentDate,TimeOccurred,SLMPDOffense,\n",
    "    #            NIBRSCode,NIBRSCat,NIBRSOffenseType,UCR_SRS,CrimeGrade,\n",
    "    #            PrimaryLocation,SecondaryLocation,District,Neighborhood,\n",
    "    #            NeighborhoodNum,Latitude,Longitude,Supplemented,\n",
    "    #            SupplementDate,VictimNum,FirearmUsed,IncidentNature\n",
    "    #     FROM crime_data\n",
    "    #     \"\"\", conn)\n",
    "\n",
    "last_updated_string = last_updated.iloc[0,0]\n",
    "date_object = parser.parse(last_updated_string)\n",
    "next_month = date_object + relativedelta(months=1)\n",
    "next_month_string = next_month.strftime(\"%B%Y\")\n",
    "filename = 'Crime-' + next_month.strftime(\"%m-%Y\")"
   ]
  },
  {
   "cell_type": "code",
   "execution_count": null,
   "id": "b272deaa-88ef-495e-9b53-71b6fccf90ee",
   "metadata": {},
   "outputs": [],
   "source": [
    "page = requests.get(page_url)\n",
    "soup = BeautifulSoup(page.content, \"html.parser\")\n",
    "block = soup.find('div', attrs = {'class': 'news_div', 'id': 'news_div'})\n",
    "\n",
    "entries = block.findAll('a')\n",
    "recent_entry = entries[-1]\n",
    "tail_url = recent_entry['href']\n",
    "\n",
    "if next_month_string in tail_url:\n",
    "    csv_link = base_url + tail_url\n",
    "    response = requests.get(csv_link)\n",
    "    \n",
    "    loc = 'data/temp/'\n",
    "    filepath = loc + filename + '.csv'\n",
    "    \n",
    "    with open(filepath, 'wb') as f:\n",
    "        f.write(response.content)\n",
    "    \n",
    "    print(\"CSV file downloaded successfully.\")\n",
    "\n",
    "    # temp_df = pd.read_csv(csv_filename)\n",
    "\n",
    "    with sqlite3.connect(DB_LOC) as conn:\n",
    "        DT = DataTransformer(filename=filename,\n",
    "                             filepath=filepath,\n",
    "                             conn=conn)\n",
    "        DT.clean_data()\n",
    "        DT.split_data()\n",
    "        DT.integrity_check()\n",
    "        DT.update_db_from_supp()\n",
    "        DT.update_db_from_unfound()\n",
    "        DT.update_db_from_new()\n",
    "        DT.commit_to_db()"
   ]
  },
  {
   "cell_type": "code",
   "execution_count": null,
   "id": "57bbf0f3-0e4b-44b9-a3fe-3a5894750f28",
   "metadata": {},
   "outputs": [],
   "source": []
  },
  {
   "cell_type": "code",
   "execution_count": null,
   "id": "171ddc1b-aa25-450b-8af7-7a9a41251f87",
   "metadata": {},
   "outputs": [],
   "source": []
  },
  {
   "cell_type": "code",
   "execution_count": 1,
   "id": "ec8eb07b-91ec-44e6-80c3-77642dd2a03a",
   "metadata": {},
   "outputs": [],
   "source": [
    "from bs4 import BeautifulSoup\n",
    "import requests\n",
    "import pandas as pd\n",
    "import sqlite3\n",
    "from dateutil import parser\n",
    "from dateutil.relativedelta import relativedelta\n",
    "from utils import DataTransformer\n",
    "\n",
    "base_url = 'https://www.slmpd.org/'\n",
    "page_url = 'https://www.slmpd.org/crime_stats.shtml'\n",
    "DB_LOC = 'instance/database.db'"
   ]
  },
  {
   "cell_type": "code",
   "execution_count": 2,
   "id": "04801b8e-290a-4f4f-9a41-78d456e2f536",
   "metadata": {},
   "outputs": [],
   "source": [
    "page = requests.get(page_url)\n",
    "soup = BeautifulSoup(page.content, \"html.parser\")\n",
    "block = soup.find('div', attrs = {'class': 'news_div', 'id': 'news_div'})\n",
    "\n",
    "entries = block.findAll('a')\n",
    "monthly_entries = [entry for entry in entries if 'Downloadable Original Crime File' in entry['title']]"
   ]
  },
  {
   "cell_type": "code",
   "execution_count": 6,
   "id": "45fe08ff-d0a3-4b58-96b8-e019db08546e",
   "metadata": {},
   "outputs": [],
   "source": [
    "monthly_entries = [entry for entry in entries if 'Downloadable Original Crime File' in entry['title']]"
   ]
  },
  {
   "cell_type": "code",
   "execution_count": 16,
   "id": "df5d95d2-cb4e-4f31-a1f2-caa2af2de020",
   "metadata": {},
   "outputs": [
    {
     "data": {
      "text/plain": [
       "'January2024'"
      ]
     },
     "execution_count": 16,
     "metadata": {},
     "output_type": "execute_result"
    }
   ],
   "source": [
    "monthly_entries[0]['href'].strip('NIBRSData/').strip('.csv')"
   ]
  }
 ],
 "metadata": {
  "kernelspec": {
   "display_name": "stl-data-transformer-app-env",
   "language": "python",
   "name": "stl-data-transformer-app-env"
  },
  "language_info": {
   "codemirror_mode": {
    "name": "ipython",
    "version": 3
   },
   "file_extension": ".py",
   "mimetype": "text/x-python",
   "name": "python",
   "nbconvert_exporter": "python",
   "pygments_lexer": "ipython3",
   "version": "3.10.12"
  }
 },
 "nbformat": 4,
 "nbformat_minor": 5
}
