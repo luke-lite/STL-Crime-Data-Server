{
 "cells": [
  {
   "cell_type": "code",
   "execution_count": 1,
   "id": "e58b1106-124a-43b8-a649-4d2c8d416084",
   "metadata": {},
   "outputs": [],
   "source": [
    "from bs4 import BeautifulSoup\n",
    "import requests\n",
    "import pandas as pd\n",
    "import sqlite3\n",
    "from datetime import datetime\n",
    "from dateutil import parser\n",
    "from dateutil.relativedelta import relativedelta"
   ]
  },
  {
   "cell_type": "code",
   "execution_count": 2,
   "id": "8b576b86-e423-4037-9249-c8d1e11c2f92",
   "metadata": {},
   "outputs": [],
   "source": [
    "base_url = 'https://www.slmpd.org/'\n",
    "page_url = 'https://www.slmpd.org/crime_stats.shtml'"
   ]
  },
  {
   "cell_type": "code",
   "execution_count": 9,
   "id": "2a56de68-717c-445c-b503-84c31503c0a8",
   "metadata": {},
   "outputs": [],
   "source": [
    "# df = pd.DataFrame(data={'LastUpdated': ['January 2024']})\n",
    "# date_string = df.iloc[0,0]"
   ]
  },
  {
   "cell_type": "code",
   "execution_count": 10,
   "id": "f17ce8f0-8458-4b54-8df3-5cc6a9dd23b2",
   "metadata": {},
   "outputs": [
    {
     "data": {
      "text/plain": [
       "'February2024'"
      ]
     },
     "execution_count": 10,
     "metadata": {},
     "output_type": "execute_result"
    }
   ],
   "source": [
    "# with sqlite3.connect('data/database.db') as conn:\n",
    "#     df = pd.read_sql_query(\"SELECT LastUpdated FROM meta_data\", conn)\n",
    "    \n",
    "# date_string = df.iloc[0,0]\n",
    "date_object = parser.parse(date_string)\n",
    "next_month = date_object + relativedelta(months=1)\n",
    "next_month_string = next_month.strftime(\"%B%Y\")\n",
    "next_month_string"
   ]
  },
  {
   "cell_type": "code",
   "execution_count": 7,
   "id": "b272deaa-88ef-495e-9b53-71b6fccf90ee",
   "metadata": {},
   "outputs": [
    {
     "data": {
      "text/plain": [
       "'NIBRSData/April2024.csv'"
      ]
     },
     "execution_count": 7,
     "metadata": {},
     "output_type": "execute_result"
    }
   ],
   "source": [
    "page = requests.get(page_url)\n",
    "soup = BeautifulSoup(page.content, \"html.parser\")\n",
    "block = soup.find('div', attrs = {'class': 'news_div', 'id': 'news_div'})\n",
    "\n",
    "entries = block.findAll('a')\n",
    "recent_entry = entries[-1]\n",
    "tail_url = recent_entry['href']\n",
    "\n",
    "if next_month_string in tail_url:\n",
    "    csv_link = base_url + tail_url\n",
    "    response = requests.get(csv_link)"
   ]
  },
  {
   "cell_type": "code",
   "execution_count": 11,
   "id": "0a173796-d240-45ca-9961-118ee2ea6f56",
   "metadata": {},
   "outputs": [
    {
     "data": {
      "text/plain": [
       "False"
      ]
     },
     "execution_count": 11,
     "metadata": {},
     "output_type": "execute_result"
    }
   ],
   "source": [
    "next_month_string in tail_url"
   ]
  },
  {
   "cell_type": "code",
   "execution_count": null,
   "id": "f374375c-facf-4ae5-a647-3e29feffb4b2",
   "metadata": {},
   "outputs": [],
   "source": [
    "recent_entry"
   ]
  },
  {
   "cell_type": "code",
   "execution_count": null,
   "id": "4417ffee-f02b-4295-b609-8f911ed6688e",
   "metadata": {},
   "outputs": [],
   "source": [
    "csv_link = base_url + tail_url\n",
    "response = requests.get(csv_link)"
   ]
  },
  {
   "cell_type": "code",
   "execution_count": null,
   "id": "2bbaa0e9-109b-42cd-8001-5ab7c3622b95",
   "metadata": {},
   "outputs": [],
   "source": [
    "csv_filename = next_month_string + '.csv\n",
    "\n",
    "with open('April2024.csv', 'wb') as f:\n",
    "    f.write(response.content)\n",
    "\n",
    "print(\"CSV file downloaded successfully.\")"
   ]
  },
  {
   "cell_type": "code",
   "execution_count": null,
   "id": "ab0db924-c1d8-47ac-a39f-39a57d8dfd5a",
   "metadata": {},
   "outputs": [],
   "source": []
  },
  {
   "cell_type": "code",
   "execution_count": null,
   "id": "b01f1f25-4c1f-4266-950f-73579b64da15",
   "metadata": {},
   "outputs": [],
   "source": [
    "j = datetime.strptime(f'{curr_entry_month} {curr_entry_year}', '%B %Y')\n",
    "j"
   ]
  },
  {
   "cell_type": "code",
   "execution_count": null,
   "id": "b5a4ddd6-bde1-4ece-9066-490f947423fa",
   "metadata": {},
   "outputs": [],
   "source": [
    "j.strftime()"
   ]
  }
 ],
 "metadata": {
  "kernelspec": {
   "display_name": "stl-data-transformer-app-env",
   "language": "python",
   "name": "stl-data-transformer-app-env"
  },
  "language_info": {
   "codemirror_mode": {
    "name": "ipython",
    "version": 3
   },
   "file_extension": ".py",
   "mimetype": "text/x-python",
   "name": "python",
   "nbconvert_exporter": "python",
   "pygments_lexer": "ipython3",
   "version": "3.10.12"
  }
 },
 "nbformat": 4,
 "nbformat_minor": 5
}
