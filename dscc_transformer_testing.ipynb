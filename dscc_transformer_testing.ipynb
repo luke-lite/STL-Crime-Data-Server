{
 "cells": [
  {
   "cell_type": "code",
   "execution_count": null,
   "id": "6db9d96a-a14e-46ad-9367-5d44f5c1d5a1",
   "metadata": {},
   "outputs": [],
   "source": [
    "import sqlite3\n",
    "import geopandas as gpd\n",
    "import numpy as np\n",
    "import shapely.geometry\n",
    "from shapely.geometry import Point\n",
    "import shapely.ops\n",
    "import shapely\n",
    "import pandas as pd\n",
    "import matplotlib.pyplot as plt\n",
    "pd.set_option('display.max_columns', None)\n",
    "\n",
    "# geostl nghbd codes:\n",
    "    # gravois park = 19\n",
    "    # benton park west = 30\n",
    "    # dutchtown = 16\n",
    "    # mount pleasant = 17"
   ]
  },
  {
   "cell_type": "code",
   "execution_count": null,
   "id": "5ba935de-7e60-4f59-9702-1eaa7656b911",
   "metadata": {},
   "outputs": [],
   "source": [
    "conn=sqlite3.connect('test_db.db')"
   ]
  },
  {
   "cell_type": "code",
   "execution_count": null,
   "id": "a06379b1-f2c2-4eab-ac9f-3bd0d09bc3c8",
   "metadata": {},
   "outputs": [],
   "source": [
    "df = pd.read_sql_query(\"\"\"SELECT IncidentNum,IncidentDate,TimeOccurred,SLMPDOffense,\n",
    "                                 NIBRSCode,NIBRSCat,NIBRSOffenseType,UCR_SRS,CrimeGrade,\n",
    "                                 PrimaryLocation,SecondaryLocation,District,Neighborhood,\n",
    "                                 NeighborhoodNum,Latitude,Longitude,Supplemented,\n",
    "                                 SupplementDate,VictimNum,FirearmUsed,IncidentNature\n",
    "                          FROM crime_data\"\"\", conn)\n",
    "df = df.sort_values(['IncidentDate', 'IncidentNum'])"
   ]
  },
  {
   "cell_type": "code",
   "execution_count": null,
   "id": "40ce656c-b93b-41ab-9024-f4c008039d37",
   "metadata": {},
   "outputs": [],
   "source": [
    "df"
   ]
  },
  {
   "cell_type": "code",
   "execution_count": null,
   "id": "2d113905-9c4b-4b82-bc04-8e633cae767d",
   "metadata": {},
   "outputs": [],
   "source": [
    "conn.close()"
   ]
  },
  {
   "cell_type": "code",
   "execution_count": null,
   "id": "01ecde16-d1ba-4458-a727-5c6b1bd07cac",
   "metadata": {},
   "outputs": [],
   "source": [
    "conn=sqlite3.connect('database.db')"
   ]
  },
  {
   "cell_type": "code",
   "execution_count": null,
   "id": "b7a84f77-77ba-4c9a-86df-910aa3733153",
   "metadata": {},
   "outputs": [],
   "source": [
    "df = pd.read_sql_query(\"\"\"SELECT IncidentNum,IncidentDate,TimeOccurred,SLMPDOffense,\n",
    "                                 NIBRSCode,NIBRSCat,NIBRSOffenseType,UCR_SRS,CrimeGrade,\n",
    "                                 PrimaryLocation,SecondaryLocation,District,Neighborhood,\n",
    "                                 NeighborhoodNum,Latitude,Longitude,Supplemented,\n",
    "                                 SupplementDate,VictimNum,FirearmUsed,IncidentNature\n",
    "                          FROM crime_data\"\"\", conn)\n",
    "df = df.sort_values(['IncidentDate', 'IncidentNum'])\n",
    "df"
   ]
  },
  {
   "cell_type": "code",
   "execution_count": null,
   "id": "6fc611e6-3c76-4fbb-893a-40976e351f1c",
   "metadata": {},
   "outputs": [],
   "source": []
  },
  {
   "cell_type": "code",
   "execution_count": null,
   "id": "adf37e3c-7c21-4785-9176-81ae3736ae97",
   "metadata": {},
   "outputs": [],
   "source": [
    "nibrs_df = "
   ]
  },
  {
   "cell_type": "code",
   "execution_count": null,
   "id": "c20fa9ec-501f-4dae-a8e3-bb1867f9273d",
   "metadata": {},
   "outputs": [],
   "source": [
    "nibrs_geo = [Point(xy) for xy in zip(nibrs_df['longitude'], nibrs_df['latitude'])]\n",
    "# nibrs_df = gpd.GeoDataFrame(nibrs_df, geometry=nibrs_geo)\n",
    "# nibrs_df['date_inc'] = pd.to_datetime(nibrs_df['date_inc'])\n",
    "\n",
    "# nghbrhd_list = ['16', '17', '19', '30']\n",
    "# mask = nibrs_df['neighborhood'].isin(nghbrhd_list)\n",
    "# nbhd_nibrs_df = nibrs_df[mask]\n",
    "# nbhd_nibrs_df"
   ]
  },
  {
   "cell_type": "code",
   "execution_count": null,
   "id": "2d2608a6-1944-4061-9d89-974a0e2d76a8",
   "metadata": {},
   "outputs": [],
   "source": []
  },
  {
   "cell_type": "code",
   "execution_count": null,
   "id": "25835fc4-dd18-4dfc-bb4e-9e9b484bdff1",
   "metadata": {},
   "outputs": [],
   "source": [
    "pd.read_csv('uploads/Crime2021-2023.csv')"
   ]
  },
  {
   "cell_type": "code",
   "execution_count": 1,
   "id": "2743c368-4231-4abb-aa50-a5e683db008e",
   "metadata": {},
   "outputs": [
    {
     "ename": "ImportError",
     "evalue": "cannot import name 'DataTransformer' from 'refactor' (/mnt/c/Users/diper/Documents/GitHub/STL-Data-Transformer-App/refactor.py)",
     "output_type": "error",
     "traceback": [
      "\u001b[0;31m---------------------------------------------------------------------------\u001b[0m",
      "\u001b[0;31mImportError\u001b[0m                               Traceback (most recent call last)",
      "Cell \u001b[0;32mIn[1], line 3\u001b[0m\n\u001b[1;32m      1\u001b[0m \u001b[38;5;28;01mimport\u001b[39;00m \u001b[38;5;21;01msqlite3\u001b[39;00m\n\u001b[1;32m      2\u001b[0m \u001b[38;5;66;03m# import pandas as pd\u001b[39;00m\n\u001b[0;32m----> 3\u001b[0m \u001b[38;5;28;01mfrom\u001b[39;00m \u001b[38;5;21;01mrefactor\u001b[39;00m \u001b[38;5;28;01mimport\u001b[39;00m DataTransformer\n\u001b[1;32m      5\u001b[0m \u001b[38;5;66;03m# Connect to SQLite database\u001b[39;00m\n\u001b[1;32m      6\u001b[0m conn \u001b[38;5;241m=\u001b[39m sqlite3\u001b[38;5;241m.\u001b[39mconnect(\u001b[38;5;124m'\u001b[39m\u001b[38;5;124myour_database.db\u001b[39m\u001b[38;5;124m'\u001b[39m)\n",
      "\u001b[0;31mImportError\u001b[0m: cannot import name 'DataTransformer' from 'refactor' (/mnt/c/Users/diper/Documents/GitHub/STL-Data-Transformer-App/refactor.py)"
     ]
    }
   ],
   "source": [
    "import sqlite3\n",
    "# import pandas as pd\n",
    "from refactor import DataTransformer\n",
    "\n",
    "# Connect to SQLite database\n",
    "conn = sqlite3.connect('your_database.db')\n",
    "\n",
    "with conn:\n",
    "    DT = DataTransformer(filename='Crime_01_2024',\n",
    "                         upload_path='uploads/Crime_01_2024.csv',\n",
    "                         conn=conn)\n",
    "    \n",
    "    DT.clean_data()\n",
    "    DT.split_data()\n",
    "    DT.integrity_check()\n",
    "    DT.update_db_from_supp()\n",
    "    DT.update_db_from_unfound()\n",
    "    DT.update_db_from_new()\n",
    "    DT.commit_to_db()\n",
    "    updated_df = DT.get_updated_df()\n",
    "    supp_df, unfound_df, new_df = DT.get_split_dfs()"
   ]
  },
  {
   "cell_type": "code",
   "execution_count": null,
   "id": "0cf7d53b-0377-423f-b296-729499f5c453",
   "metadata": {},
   "outputs": [],
   "source": []
  }
 ],
 "metadata": {
  "kernelspec": {
   "display_name": "stl-data-transformer-app-env",
   "language": "python",
   "name": "stl-data-transformer-app-env"
  },
  "language_info": {
   "codemirror_mode": {
    "name": "ipython",
    "version": 3
   },
   "file_extension": ".py",
   "mimetype": "text/x-python",
   "name": "python",
   "nbconvert_exporter": "python",
   "pygments_lexer": "ipython3",
   "version": "3.10.12"
  }
 },
 "nbformat": 4,
 "nbformat_minor": 5
}
