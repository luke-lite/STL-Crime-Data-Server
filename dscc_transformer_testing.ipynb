{
 "cells": [
  {
   "cell_type": "code",
   "execution_count": 1,
   "id": "6db9d96a-a14e-46ad-9367-5d44f5c1d5a1",
   "metadata": {},
   "outputs": [
    {
     "ename": "ModuleNotFoundError",
     "evalue": "No module named 'geopandas'",
     "output_type": "error",
     "traceback": [
      "\u001b[1;31m---------------------------------------------------------------------------\u001b[0m",
      "\u001b[1;31mModuleNotFoundError\u001b[0m                       Traceback (most recent call last)",
      "Cell \u001b[1;32mIn[1], line 1\u001b[0m\n\u001b[1;32m----> 1\u001b[0m \u001b[38;5;28;01mimport\u001b[39;00m \u001b[38;5;21;01mgeopandas\u001b[39;00m \u001b[38;5;28;01mas\u001b[39;00m \u001b[38;5;21;01mgpd\u001b[39;00m\n\u001b[0;32m      2\u001b[0m \u001b[38;5;28;01mimport\u001b[39;00m \u001b[38;5;21;01mnumpy\u001b[39;00m \u001b[38;5;28;01mas\u001b[39;00m \u001b[38;5;21;01mnp\u001b[39;00m\n\u001b[0;32m      3\u001b[0m \u001b[38;5;28;01mimport\u001b[39;00m \u001b[38;5;21;01mshapely\u001b[39;00m\u001b[38;5;21;01m.\u001b[39;00m\u001b[38;5;21;01mgeometry\u001b[39;00m\n",
      "\u001b[1;31mModuleNotFoundError\u001b[0m: No module named 'geopandas'"
     ]
    }
   ],
   "source": [
    "import geopandas as gpd\n",
    "import numpy as np\n",
    "import shapely.geometry\n",
    "from shapely.geometry import Point\n",
    "import shapely.ops\n",
    "import shapely\n",
    "import pandas as pd\n",
    "import matplotlib.pyplot as plt\n",
    "pd.set_option('display.max_columns', None)\n",
    "\n",
    "# geostl nghbd codes:\n",
    "    # gravois park = 19\n",
    "    # benton park west = 30\n",
    "    # dutchtown = 16\n",
    "    # mount pleasant = 17"
   ]
  },
  {
   "cell_type": "code",
   "execution_count": null,
   "id": "adf37e3c-7c21-4785-9176-81ae3736ae97",
   "metadata": {},
   "outputs": [],
   "source": [
    "nibrs_df = "
   ]
  },
  {
   "cell_type": "code",
   "execution_count": null,
   "id": "c20fa9ec-501f-4dae-a8e3-bb1867f9273d",
   "metadata": {},
   "outputs": [],
   "source": [
    "nibrs_geo = [Point(xy) for xy in zip(nibrs_df['longitude'], nibrs_df['latitude'])]\n",
    "# nibrs_df = gpd.GeoDataFrame(nibrs_df, geometry=nibrs_geo)\n",
    "# nibrs_df['date_inc'] = pd.to_datetime(nibrs_df['date_inc'])\n",
    "\n",
    "# nghbrhd_list = ['16', '17', '19', '30']\n",
    "# mask = nibrs_df['neighborhood'].isin(nghbrhd_list)\n",
    "# nbhd_nibrs_df = nibrs_df[mask]\n",
    "# nbhd_nibrs_df"
   ]
  },
  {
   "cell_type": "code",
   "execution_count": null,
   "id": "2d2608a6-1944-4061-9d89-974a0e2d76a8",
   "metadata": {},
   "outputs": [],
   "source": []
  },
  {
   "cell_type": "code",
   "execution_count": null,
   "id": "5ba935de-7e60-4f59-9702-1eaa7656b911",
   "metadata": {},
   "outputs": [],
   "source": []
  },
  {
   "cell_type": "code",
   "execution_count": null,
   "id": "a06379b1-f2c2-4eab-ac9f-3bd0d09bc3c8",
   "metadata": {},
   "outputs": [],
   "source": []
  }
 ],
 "metadata": {
  "kernelspec": {
   "display_name": "stl-transformer-env",
   "language": "python",
   "name": "stl-transformer-env"
  },
  "language_info": {
   "codemirror_mode": {
    "name": "ipython",
    "version": 3
   },
   "file_extension": ".py",
   "mimetype": "text/x-python",
   "name": "python",
   "nbconvert_exporter": "python",
   "pygments_lexer": "ipython3",
   "version": "3.10.9"
  }
 },
 "nbformat": 4,
 "nbformat_minor": 5
}
