{
 "cells": [
  {
   "cell_type": "code",
   "execution_count": null,
   "id": "6db9d96a-a14e-46ad-9367-5d44f5c1d5a1",
   "metadata": {},
   "outputs": [],
   "source": [
    "import sqlite3\n",
    "import geopandas as gpd\n",
    "import numpy as np\n",
    "import shapely.geometry\n",
    "from shapely.geometry import Point\n",
    "import shapely.ops\n",
    "import shapely\n",
    "import pandas as pd\n",
    "import matplotlib.pyplot as plt\n",
    "pd.set_option('display.max_columns', None)\n",
    "\n",
    "# geostl nghbd codes:\n",
    "    # gravois park = 19\n",
    "    # benton park west = 30\n",
    "    # dutchtown = 16\n",
    "    # mount pleasant = 17"
   ]
  },
  {
   "cell_type": "code",
   "execution_count": null,
   "id": "5ba935de-7e60-4f59-9702-1eaa7656b911",
   "metadata": {},
   "outputs": [],
   "source": [
    "# conn=sqlite3.connect('test_db.db')\n",
    "conn = sqlite3.connect('database.db')"
   ]
  },
  {
   "cell_type": "code",
   "execution_count": null,
   "id": "a06379b1-f2c2-4eab-ac9f-3bd0d09bc3c8",
   "metadata": {},
   "outputs": [],
   "source": [
    "df = pd.read_sql_query(\"\"\"SELECT IncidentNum,IncidentDate,TimeOccurred,SLMPDOffense,\n",
    "                                 NIBRSCode,NIBRSCat,NIBRSOffenseType,UCR_SRS,CrimeGrade,\n",
    "                                 PrimaryLocation,SecondaryLocation,District,Neighborhood,\n",
    "                                 NeighborhoodNum,Latitude,Longitude,Supplemented,\n",
    "                                 SupplementDate,VictimNum,FirearmUsed,IncidentNature\n",
    "                          FROM crime_data\"\"\", conn)\n",
    "df = df.sort_values(['IncidentDate', 'IncidentNum'])"
   ]
  },
  {
   "cell_type": "code",
   "execution_count": null,
   "id": "b9eb4d7a-96e0-4889-9f54-a8aa886a1145",
   "metadata": {},
   "outputs": [],
   "source": [
    "df"
   ]
  },
  {
   "cell_type": "code",
   "execution_count": null,
   "id": "2fc19cf1-28ff-42bf-b08f-f18fcff4eb21",
   "metadata": {},
   "outputs": [],
   "source": [
    "ids = df['IncidentNum'].value_counts()\n",
    "ids[ids>1]\n",
    "# df[df['IncidentNum']==23051429]"
   ]
  },
  {
   "cell_type": "code",
   "execution_count": null,
   "id": "fc39dfe6-3db3-4de8-8a81-457c5d488e48",
   "metadata": {},
   "outputs": [],
   "source": [
    "df[df['IncidentNum']==23051429]"
   ]
  },
  {
   "cell_type": "code",
   "execution_count": null,
   "id": "40ce656c-b93b-41ab-9024-f4c008039d37",
   "metadata": {},
   "outputs": [],
   "source": [
    "df"
   ]
  },
  {
   "cell_type": "code",
   "execution_count": null,
   "id": "2d113905-9c4b-4b82-bc04-8e633cae767d",
   "metadata": {},
   "outputs": [],
   "source": [
    "conn.close()"
   ]
  },
  {
   "cell_type": "code",
   "execution_count": null,
   "id": "01ecde16-d1ba-4458-a727-5c6b1bd07cac",
   "metadata": {},
   "outputs": [],
   "source": [
    "conn=sqlite3.connect('test_db.db')"
   ]
  },
  {
   "cell_type": "code",
   "execution_count": null,
   "id": "b7a84f77-77ba-4c9a-86df-910aa3733153",
   "metadata": {},
   "outputs": [],
   "source": [
    "df = pd.read_sql_query(\"\"\"SELECT IncidentNum,IncidentDate,TimeOccurred,SLMPDOffense,\n",
    "                                 NIBRSCode,NIBRSCat,NIBRSOffenseType,UCR_SRS,CrimeGrade,\n",
    "                                 PrimaryLocation,SecondaryLocation,District,Neighborhood,\n",
    "                                 NeighborhoodNum,Latitude,Longitude,Supplemented,\n",
    "                                 SupplementDate,VictimNum,FirearmUsed,IncidentNature\n",
    "                          FROM crime_data\"\"\", conn)\n",
    "df = df.sort_values(['IncidentDate', 'IncidentNum'])\n",
    "df"
   ]
  },
  {
   "cell_type": "code",
   "execution_count": null,
   "id": "6fc611e6-3c76-4fbb-893a-40976e351f1c",
   "metadata": {},
   "outputs": [],
   "source": [
    "df[df['IncidentNum']==23051429]"
   ]
  },
  {
   "cell_type": "code",
   "execution_count": null,
   "id": "adf37e3c-7c21-4785-9176-81ae3736ae97",
   "metadata": {},
   "outputs": [],
   "source": [
    "nibrs_df = "
   ]
  },
  {
   "cell_type": "code",
   "execution_count": null,
   "id": "c20fa9ec-501f-4dae-a8e3-bb1867f9273d",
   "metadata": {},
   "outputs": [],
   "source": [
    "nibrs_geo = [Point(xy) for xy in zip(nibrs_df['longitude'], nibrs_df['latitude'])]\n",
    "# nibrs_df = gpd.GeoDataFrame(nibrs_df, geometry=nibrs_geo)\n",
    "# nibrs_df['date_inc'] = pd.to_datetime(nibrs_df['date_inc'])\n",
    "\n",
    "# nghbrhd_list = ['16', '17', '19', '30']\n",
    "# mask = nibrs_df['neighborhood'].isin(nghbrhd_list)\n",
    "# nbhd_nibrs_df = nibrs_df[mask]\n",
    "# nbhd_nibrs_df"
   ]
  },
  {
   "cell_type": "code",
   "execution_count": null,
   "id": "2d2608a6-1944-4061-9d89-974a0e2d76a8",
   "metadata": {},
   "outputs": [],
   "source": []
  },
  {
   "cell_type": "code",
   "execution_count": null,
   "id": "25835fc4-dd18-4dfc-bb4e-9e9b484bdff1",
   "metadata": {},
   "outputs": [],
   "source": [
    "pd.read_csv('uploads/Crime2021-2023.csv')"
   ]
  },
  {
   "cell_type": "code",
   "execution_count": null,
   "id": "f598a7a0-0129-49c1-863f-72554615b5d7",
   "metadata": {},
   "outputs": [],
   "source": [
    "import sqlite3\n",
    "# import pandas as pd\n",
    "from refactor import DataTransformer"
   ]
  },
  {
   "cell_type": "code",
   "execution_count": null,
   "id": "a31d584d-f722-47c2-8820-85cd444e5f4a",
   "metadata": {},
   "outputs": [],
   "source": [
    "# Connect to SQLite database\n",
    "conn = sqlite3.connect('database.db')\n",
    "\n",
    "with conn:\n",
    "    DT = DataTransformer(filename='Crime_01_2024',\n",
    "                         upload_path='uploads/Crime_01_2024.csv',\n",
    "                         conn=conn)\n",
    "    \n",
    "    DT.clean_data()\n",
    "    DT.split_data()\n",
    "    DT.integrity_check()\n",
    "    DT.update_db_from_supp()\n",
    "    DT.update_db_from_unfound()\n",
    "    DT.update_db_from_new()\n",
    "    DT.commit_to_db()\n",
    "    updated_df = DT.get_updated_df()\n",
    "    supp_df, unfound_df, new_df = DT.get_split_dfs()"
   ]
  },
  {
   "cell_type": "code",
   "execution_count": null,
   "id": "0cf7d53b-0377-423f-b296-729499f5c453",
   "metadata": {},
   "outputs": [],
   "source": [
    "updated_df"
   ]
  },
  {
   "cell_type": "code",
   "execution_count": null,
   "id": "b3f58f68-f98c-4a1f-90a2-75de897dd8a7",
   "metadata": {},
   "outputs": [],
   "source": [
    "updated_df"
   ]
  }
 ],
 "metadata": {
  "kernelspec": {
   "display_name": "stl-data-transformer-app-env",
   "language": "python",
   "name": "stl-data-transformer-app-env"
  },
  "language_info": {
   "codemirror_mode": {
    "name": "ipython",
    "version": 3
   },
   "file_extension": ".py",
   "mimetype": "text/x-python",
   "name": "python",
   "nbconvert_exporter": "python",
   "pygments_lexer": "ipython3",
   "version": "3.10.12"
  }
 },
 "nbformat": 4,
 "nbformat_minor": 5
}
